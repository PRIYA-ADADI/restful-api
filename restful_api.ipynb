{
  "nbformat": 4,
  "nbformat_minor": 0,
  "metadata": {
    "colab": {
      "provenance": []
    },
    "kernelspec": {
      "name": "python3",
      "display_name": "Python 3"
    },
    "language_info": {
      "name": "python"
    }
  },
  "cells": [
    {
      "cell_type": "markdown",
      "source": [
        "\n",
        "### 1. What is a RESTful API?  \n",
        "A **RESTful API** is a set of rules that we use to enable different applications to communicate over the internet. We understand that REST APIs use standard HTTP methods like GET, POST, PUT, and DELETE to perform actions on resources such as users or products. Each resource is identified by a URL, and we design APIs to be simple, stateless, and scalable. This way, our applications can exchange data efficiently without complicated setups.\n",
        "\n",
        "\n",
        "### 2. Explain the concept of API specification  \n",
        "An **API specification** is like a detailed guide that we create to explain how our API works. We document all the endpoints (URLs), what data we need to send, what responses we will give, and how errors are handled. This helps us and other developers understand exactly how to interact with our API. Having this clear blueprint makes our development process smoother and reduces mistakes, ensuring everyone is on the same page.\n",
        "\n",
        "\n",
        "### 3. What is Flask, and why is it popular for building APIs?  \n",
        "**Flask** is a lightweight web framework written in Python that we use because it’s simple and flexible. We like that it doesn’t make us follow strict rules, so we can add only the features we need. It’s popular because it’s easy to learn, has a big community, and allows us to build APIs quickly. Its minimal design helps us focus on what really matters without unnecessary complexity.\n",
        "\n",
        "\n",
        "\n",
        "### 4. What is routing in Flask?  \n",
        "In Flask, **routing** is how we connect specific URLs to functions. We set up routes so that when someone visits a certain address, Flask knows which function to run. For example, we might create a route for `/home` that shows the homepage. Routing helps us organize our website or API by linking URLs to the right code, making everything work smoothly.\n",
        "\n",
        "\n",
        "\n",
        "### 5. How do you create a simple Flask application?  \n",
        "To create a basic Flask app, we start by importing Flask and creating an app object. Then, we define routes that connect URLs to functions which generate responses like text or data. Finally, we run the app, which starts a local server. When we do this, we can access our website or API through a browser or other tools, and Flask takes care of handling requests and responses for us.\n",
        "\n",
        "\n",
        "### 6. What are HTTP methods used in RESTful APIs?  \n",
        "We use HTTP methods to tell the server what action we want to perform. The main ones are:  \n",
        "- **GET** to fetch or read data, like viewing a page or getting user info.  \n",
        "- **POST** to send data to create new things, such as signing up a new user.  \n",
        "- **PUT** to update existing data, like changing a profile.  \n",
        "- **DELETE** to remove data, such as deleting a post.  \n",
        "These methods help us communicate clearly and consistently with the server.\n",
        "\n",
        "\n",
        "\n",
        "### 7. What is the purpose of the @app.route() decorator in Flask?  \n",
        "The `@app.route()` decorator is how we tell Flask which URL should trigger a certain function. We use it to map URLs to functions, so when someone visits that URL, Flask runs the code we’ve associated with it. It’s like giving each page or endpoint a label so Flask knows what to do when that address is accessed.\n",
        "\n",
        "\n",
        "### 8. What is the difference between GET and POST HTTP methods?  \n",
        "We distinguish between GET and POST like this:  \n",
        "- **GET** is used when we want to retrieve data, like loading a webpage or fetching user details. It sends data via the URL, so it’s visible and easy to bookmark.  \n",
        "- **POST** is used when we want to send data to the server, like submitting a form. The data is in the request body, which is more secure for sensitive info. POST requests often create or update data, while GET requests just read data.\n",
        "\n",
        "\n",
        "### 9. How do you handle errors in Flask APIs?  \n",
        "In Flask, we handle errors by creating error handler functions. When something goes wrong, like a user requests a page that doesn’t exist, Flask runs our error handler, which returns a friendly message or custom page. This way, we make our API more user-friendly and easier to troubleshoot because users see helpful messages instead of confusing error codes.\n",
        "\n",
        "\n",
        "\n",
        "### 10. How do you connect Flask to a SQL database?  \n",
        "We connect Flask to a SQL database using the Flask-SQLAlchemy extension. First, we specify the database location, then define data models (which are classes representing tables). Flask-SQLAlchemy manages the connection and lets us perform database operations like adding, updating, or retrieving data with simple commands. This approach makes managing data in our application straightforward and organized.\n",
        "\n",
        "\n",
        "\n",
        "### 11. What is the role of Flask-SQLAlchemy?  \n",
        "**Flask-SQLAlchemy** helps us work with databases easily. It allows us to define tables as Python classes and interact with the database using familiar Python syntax. Instead of writing raw SQL queries, we can create, read, update, and delete data through simple commands. It also manages connections and other database tasks, making our data management faster and less prone to errors.\n",
        "\n",
        "\n",
        "### 12. What are Flask blueprints, and how are they useful?  \n",
        "**Blueprints** in Flask are like mini applications within our main app. We use them to organize related routes and functions into separate modules, such as user management or product pages. Blueprints make our code cleaner, easier to develop, and easier to maintain, especially when our app grows larger. They also allow different team members to work on different parts independently.\n",
        "\n",
        "\n",
        "\n",
        "### 13. What is the purpose of Flask's request object?  \n",
        "The **request** object in Flask contains all the data sent by the client when making a request. We use it to access form data, JSON payloads, URL parameters, and headers. This way, we can process user inputs and customize the responses accordingly. It’s essential for making our API or website interactive and dynamic.\n",
        "\n",
        "\n",
        "### 14. How do you create a RESTful API endpoint using Flask?  \n",
        "To create an API endpoint, we define a route with a URL and specify which HTTP methods it accepts. When a client makes a request to that URL, Flask runs the associated function, which processes the request data and sends back a response, typically in JSON format. This setup allows us to serve data and perform actions based on client requests, forming the core of our API.\n",
        "\n",
        "\n",
        "\n",
        "### 15. What is the purpose of Flask's jsonify() function?  \n",
        "The `jsonify()` function helps us convert Python data like dictionaries or lists into JSON format, which is easy for clients to understand and use. It also sets the correct HTTP headers so that clients recognize the response as JSON. We use it whenever we want to send structured data from our Flask app to other applications or web pages.\n",
        "\n",
        "\n",
        "\n",
        "### 16. Explain Flask’s url_for() function.  \n",
        "The `url_for()` function helps us generate URLs dynamically for specific routes or functions within our Flask app. Instead of hardcoding links, we pass the function name, and Flask creates the correct URL. This makes our code more flexible and easier to update because if we change a route, `url_for()` automatically generates the new link everywhere it is used.\n",
        "\n",
        "\n",
        "\n",
        "### 17. How does Flask handle static files (CSS, JavaScript, etc.)?  \n",
        "Flask automatically serves static files stored in a folder called `static`. We place CSS stylesheets, JavaScript files, images, and other resources there. When our webpages load, we link these static files so that browsers can fetch and display styles and scripts properly. This setup helps us build attractive and interactive websites.\n",
        "\n",
        "\n",
        "\n",
        "### 18. What is an API specification, and how does it help in building a Flask API?  \n",
        "An **API specification** is a detailed plan that describes what our API does, including available endpoints, data formats, and expected responses. We create this document so that everyone involved knows how to interact with the API correctly. It helps us develop, test, and maintain the API more efficiently, reducing misunderstandings and errors.\n",
        "\n",
        "\n",
        "\n",
        "### 19. What are HTTP status codes, and why are they important in a Flask API?  \n",
        "HTTP status codes are numbers we send back with responses to tell the client whether their request was successful or if there was an error. For example, 200 means success, 404 means not found, and 500 indicates a server error. These codes are important because they provide quick information to clients about what happened, helping them handle responses appropriately.\n",
        "\n",
        "\n",
        "\n",
        "### 20. How do you handle POST requests in Flask?  \n",
        "When handling POST requests, we set up a route that accepts POST methods. Inside the route function, we access the data sent by the client through the request object, such as form data or JSON. We process this data—like saving it to a database—and then send back a response, often confirming that the operation was successful. This allows us to handle user inputs and create new data on the server.\n",
        "\n",
        "\n",
        "\n",
        "### 21. How would you secure a Flask API?  \n",
        "To secure our Flask API, we implement authentication methods like tokens or login systems to verify users. We validate all inputs to prevent malicious attacks. We also use HTTPS to encrypt data during transmission, making it harder for attackers to intercept sensitive information. Additionally, we limit the number of requests a user can make to prevent abuse and keep our software updated with security patches. These steps help us protect our API from unauthorized access and data breaches.\n",
        "\n",
        "\n",
        "\n",
        "### 22. What is the significance of the Flask-RESTful extension?  \n",
        "**Flask-RESTful** helps us build REST APIs more efficiently. It provides tools like resource classes, automatic URL routing, and request parsing, which organize our code better. Using this extension reduces repetitive code, makes our API more maintainable, and helps us follow best practices easily. It’s especially useful when we have many endpoints and want a clean, scalable structure.\n",
        "\n",
        "\n",
        "\n",
        "### 23. What is the role of Flask’s session object?  \n",
        "The **session** object allows us to store small pieces of data across multiple requests from the same user. For example, we can keep track of whether a user is logged in or store their preferences. Since session data is stored in cookies that are signed for security, we can maintain user-specific information securely. This helps us create a more personalized and consistent user experience as users navigate our application.\n"
      ],
      "metadata": {
        "id": "y8ufUve4-OhV"
      }
    },
    {
      "cell_type": "code",
      "source": [
        "!pip install flask"
      ],
      "metadata": {
        "colab": {
          "base_uri": "https://localhost:8080/"
        },
        "id": "Z2G1JcuVBJ0x",
        "outputId": "0071973b-f924-45ae-c77b-715b33b9ef7c"
      },
      "execution_count": 1,
      "outputs": [
        {
          "output_type": "stream",
          "name": "stdout",
          "text": [
            "Requirement already satisfied: flask in /usr/local/lib/python3.11/dist-packages (3.1.1)\n",
            "Requirement already satisfied: blinker>=1.9.0 in /usr/local/lib/python3.11/dist-packages (from flask) (1.9.0)\n",
            "Requirement already satisfied: click>=8.1.3 in /usr/local/lib/python3.11/dist-packages (from flask) (8.2.0)\n",
            "Requirement already satisfied: itsdangerous>=2.2.0 in /usr/local/lib/python3.11/dist-packages (from flask) (2.2.0)\n",
            "Requirement already satisfied: jinja2>=3.1.2 in /usr/local/lib/python3.11/dist-packages (from flask) (3.1.6)\n",
            "Requirement already satisfied: markupsafe>=2.1.1 in /usr/local/lib/python3.11/dist-packages (from flask) (3.0.2)\n",
            "Requirement already satisfied: werkzeug>=3.1.0 in /usr/local/lib/python3.11/dist-packages (from flask) (3.1.3)\n"
          ]
        }
      ]
    },
    {
      "cell_type": "code",
      "source": [
        "%%writefile app.py\n",
        "from flask import Flask, render_template, request, redirect, url_for, jsonify, session\n",
        "\n",
        "app = Flask(__name__)\n",
        "app.secret_key = \"your_secret_key\"\n",
        "\n",
        "@app.route(\"/\")\n",
        "def home():\n",
        "    return \"Hello from Flask in Colab!\"\n",
        "\n",
        "@app.route(\"/json\")\n",
        "def json_route():\n",
        "    return jsonify({\"message\": \"Hello, JSON!\"})\n",
        "\n",
        "@app.route(\"/user/<username>\")\n",
        "def user(username):\n",
        "    return f\"User: {username}\"\n",
        "\n",
        "@app.route(\"/login\", methods=[\"GET\", \"POST\"])\n",
        "def login():\n",
        "    if request.method == \"POST\":\n",
        "        session[\"username\"] = request.form.get(\"username\")\n",
        "        return redirect(url_for(\"home\"))\n",
        "    return '''\n",
        "        <form method=\"post\">\n",
        "            <input name=\"username\" placeholder=\"Enter username\">\n",
        "            <input type=\"submit\" value=\"Login\">\n",
        "        </form>\n",
        "    '''\n",
        "\n",
        "if __name__ == \"__main__\":\n",
        "    app.run()"
      ],
      "metadata": {
        "colab": {
          "base_uri": "https://localhost:8080/"
        },
        "id": "FpE4QkkhBX7X",
        "outputId": "3ed75a07-cd89-4357-fc43-03e5eded5f47"
      },
      "execution_count": 2,
      "outputs": [
        {
          "output_type": "stream",
          "name": "stdout",
          "text": [
            "Writing app.py\n"
          ]
        }
      ]
    },
    {
      "cell_type": "code",
      "source": [
        "!pip install flask-ngrok"
      ],
      "metadata": {
        "colab": {
          "base_uri": "https://localhost:8080/"
        },
        "id": "UjSXzOK2BcZH",
        "outputId": "9cee66c9-e035-49ea-ed2e-41ff1a657ca1"
      },
      "execution_count": 3,
      "outputs": [
        {
          "output_type": "stream",
          "name": "stdout",
          "text": [
            "Collecting flask-ngrok\n",
            "  Downloading flask_ngrok-0.0.25-py3-none-any.whl.metadata (1.8 kB)\n",
            "Requirement already satisfied: Flask>=0.8 in /usr/local/lib/python3.11/dist-packages (from flask-ngrok) (3.1.1)\n",
            "Requirement already satisfied: requests in /usr/local/lib/python3.11/dist-packages (from flask-ngrok) (2.32.3)\n",
            "Requirement already satisfied: blinker>=1.9.0 in /usr/local/lib/python3.11/dist-packages (from Flask>=0.8->flask-ngrok) (1.9.0)\n",
            "Requirement already satisfied: click>=8.1.3 in /usr/local/lib/python3.11/dist-packages (from Flask>=0.8->flask-ngrok) (8.2.0)\n",
            "Requirement already satisfied: itsdangerous>=2.2.0 in /usr/local/lib/python3.11/dist-packages (from Flask>=0.8->flask-ngrok) (2.2.0)\n",
            "Requirement already satisfied: jinja2>=3.1.2 in /usr/local/lib/python3.11/dist-packages (from Flask>=0.8->flask-ngrok) (3.1.6)\n",
            "Requirement already satisfied: markupsafe>=2.1.1 in /usr/local/lib/python3.11/dist-packages (from Flask>=0.8->flask-ngrok) (3.0.2)\n",
            "Requirement already satisfied: werkzeug>=3.1.0 in /usr/local/lib/python3.11/dist-packages (from Flask>=0.8->flask-ngrok) (3.1.3)\n",
            "Requirement already satisfied: charset-normalizer<4,>=2 in /usr/local/lib/python3.11/dist-packages (from requests->flask-ngrok) (3.4.2)\n",
            "Requirement already satisfied: idna<4,>=2.5 in /usr/local/lib/python3.11/dist-packages (from requests->flask-ngrok) (3.10)\n",
            "Requirement already satisfied: urllib3<3,>=1.21.1 in /usr/local/lib/python3.11/dist-packages (from requests->flask-ngrok) (2.4.0)\n",
            "Requirement already satisfied: certifi>=2017.4.17 in /usr/local/lib/python3.11/dist-packages (from requests->flask-ngrok) (2025.4.26)\n",
            "Downloading flask_ngrok-0.0.25-py3-none-any.whl (3.1 kB)\n",
            "Installing collected packages: flask-ngrok\n",
            "Successfully installed flask-ngrok-0.0.25\n"
          ]
        }
      ]
    },
    {
      "cell_type": "code",
      "source": [
        "from flask_ngrok import run_with_ngrok\n",
        "\n",
        "from app import app\n",
        "\n",
        "run_with_ngrok(app)\n",
        "app.run()"
      ],
      "metadata": {
        "colab": {
          "base_uri": "https://localhost:8080/"
        },
        "id": "MkYXtEgOBccJ",
        "outputId": "ed8483f6-060e-46bb-d353-9f556841ef0d"
      },
      "execution_count": 4,
      "outputs": [
        {
          "output_type": "stream",
          "name": "stdout",
          "text": [
            " * Serving Flask app 'app'\n",
            " * Debug mode: off\n"
          ]
        },
        {
          "output_type": "stream",
          "name": "stderr",
          "text": [
            "INFO:werkzeug:\u001b[31m\u001b[1mWARNING: This is a development server. Do not use it in a production deployment. Use a production WSGI server instead.\u001b[0m\n",
            " * Running on http://127.0.0.1:5000\n",
            "INFO:werkzeug:\u001b[33mPress CTRL+C to quit\u001b[0m\n",
            "Exception in thread Thread-8:\n",
            "Traceback (most recent call last):\n",
            "  File \"/usr/local/lib/python3.11/dist-packages/urllib3/connection.py\", line 198, in _new_conn\n",
            "    sock = connection.create_connection(\n",
            "           ^^^^^^^^^^^^^^^^^^^^^^^^^^^^^\n",
            "  File \"/usr/local/lib/python3.11/dist-packages/urllib3/util/connection.py\", line 85, in create_connection\n",
            "    raise err\n",
            "  File \"/usr/local/lib/python3.11/dist-packages/urllib3/util/connection.py\", line 73, in create_connection\n",
            "    sock.connect(sa)\n",
            "ConnectionRefusedError: [Errno 111] Connection refused\n",
            "\n",
            "The above exception was the direct cause of the following exception:\n",
            "\n",
            "Traceback (most recent call last):\n",
            "  File \"/usr/local/lib/python3.11/dist-packages/urllib3/connectionpool.py\", line 787, in urlopen\n",
            "    response = self._make_request(\n",
            "               ^^^^^^^^^^^^^^^^^^^\n",
            "  File \"/usr/local/lib/python3.11/dist-packages/urllib3/connectionpool.py\", line 493, in _make_request\n",
            "    conn.request(\n",
            "  File \"/usr/local/lib/python3.11/dist-packages/urllib3/connection.py\", line 445, in request\n",
            "    self.endheaders()\n",
            "  File \"/usr/lib/python3.11/http/client.py\", line 1298, in endheaders\n",
            "    self._send_output(message_body, encode_chunked=encode_chunked)\n",
            "  File \"/usr/lib/python3.11/http/client.py\", line 1058, in _send_output\n",
            "    self.send(msg)\n",
            "  File \"/usr/lib/python3.11/http/client.py\", line 996, in send\n",
            "    self.connect()\n",
            "  File \"/usr/local/lib/python3.11/dist-packages/urllib3/connection.py\", line 276, in connect\n",
            "    self.sock = self._new_conn()\n",
            "                ^^^^^^^^^^^^^^^^\n",
            "  File \"/usr/local/lib/python3.11/dist-packages/urllib3/connection.py\", line 213, in _new_conn\n",
            "    raise NewConnectionError(\n",
            "urllib3.exceptions.NewConnectionError: <urllib3.connection.HTTPConnection object at 0x797ae05c3010>: Failed to establish a new connection: [Errno 111] Connection refused\n",
            "\n",
            "The above exception was the direct cause of the following exception:\n",
            "\n",
            "Traceback (most recent call last):\n",
            "  File \"/usr/local/lib/python3.11/dist-packages/requests/adapters.py\", line 667, in send\n",
            "    resp = conn.urlopen(\n",
            "           ^^^^^^^^^^^^^\n",
            "  File \"/usr/local/lib/python3.11/dist-packages/urllib3/connectionpool.py\", line 841, in urlopen\n",
            "    retries = retries.increment(\n",
            "              ^^^^^^^^^^^^^^^^^^\n",
            "  File \"/usr/local/lib/python3.11/dist-packages/urllib3/util/retry.py\", line 519, in increment\n",
            "    raise MaxRetryError(_pool, url, reason) from reason  # type: ignore[arg-type]\n",
            "    ^^^^^^^^^^^^^^^^^^^^^^^^^^^^^^^^^^^^^^^^^^^^^^^^^^^\n",
            "urllib3.exceptions.MaxRetryError: HTTPConnectionPool(host='localhost', port=4040): Max retries exceeded with url: /api/tunnels (Caused by NewConnectionError('<urllib3.connection.HTTPConnection object at 0x797ae05c3010>: Failed to establish a new connection: [Errno 111] Connection refused'))\n",
            "\n",
            "During handling of the above exception, another exception occurred:\n",
            "\n",
            "Traceback (most recent call last):\n",
            "  File \"/usr/lib/python3.11/threading.py\", line 1045, in _bootstrap_inner\n",
            "    self.run()\n",
            "  File \"/usr/lib/python3.11/threading.py\", line 1401, in run\n",
            "    self.function(*self.args, **self.kwargs)\n",
            "  File \"/usr/local/lib/python3.11/dist-packages/flask_ngrok.py\", line 70, in start_ngrok\n",
            "    ngrok_address = _run_ngrok()\n",
            "                    ^^^^^^^^^^^^\n",
            "  File \"/usr/local/lib/python3.11/dist-packages/flask_ngrok.py\", line 35, in _run_ngrok\n",
            "    tunnel_url = requests.get(localhost_url).text  # Get the tunnel information\n",
            "                 ^^^^^^^^^^^^^^^^^^^^^^^^^^^\n",
            "  File \"/usr/local/lib/python3.11/dist-packages/requests/api.py\", line 73, in get\n",
            "    return request(\"get\", url, params=params, **kwargs)\n",
            "           ^^^^^^^^^^^^^^^^^^^^^^^^^^^^^^^^^^^^^^^^^^^^\n",
            "  File \"/usr/local/lib/python3.11/dist-packages/requests/api.py\", line 59, in request\n",
            "    return session.request(method=method, url=url, **kwargs)\n",
            "           ^^^^^^^^^^^^^^^^^^^^^^^^^^^^^^^^^^^^^^^^^^^^^^^^^\n",
            "  File \"/usr/local/lib/python3.11/dist-packages/requests/sessions.py\", line 589, in request\n",
            "    resp = self.send(prep, **send_kwargs)\n",
            "           ^^^^^^^^^^^^^^^^^^^^^^^^^^^^^^\n",
            "  File \"/usr/local/lib/python3.11/dist-packages/requests/sessions.py\", line 703, in send\n",
            "    r = adapter.send(request, **kwargs)\n",
            "        ^^^^^^^^^^^^^^^^^^^^^^^^^^^^^^^\n",
            "  File \"/usr/local/lib/python3.11/dist-packages/requests/adapters.py\", line 700, in send\n",
            "    raise ConnectionError(e, request=request)\n",
            "requests.exceptions.ConnectionError: HTTPConnectionPool(host='localhost', port=4040): Max retries exceeded with url: /api/tunnels (Caused by NewConnectionError('<urllib3.connection.HTTPConnection object at 0x797ae05c3010>: Failed to establish a new connection: [Errno 111] Connection refused'))\n"
          ]
        }
      ]
    },
    {
      "cell_type": "code",
      "source": [
        "# Install necessary packages\n",
        "!pip install flask-ngrok\n",
        "\n",
        "# Run everything in one cell\n",
        "from flask import Flask, jsonify\n",
        "from flask_ngrok import run_with_ngrok\n",
        "\n",
        "app = Flask(__name__)\n",
        "run_with_ngrok(app)  # Starts ngrok tunnel\n",
        "\n",
        "@app.route(\"/\")\n",
        "def home():\n",
        "    return \"Hello from Flask in Colab!\"\n",
        "\n",
        "@app.route(\"/json\")\n",
        "def json_route():\n",
        "    return jsonify({\"message\": \"Hello, JSON!\"})\n",
        "\n",
        "# Start the server and ngrok\n",
        "app.run()"
      ],
      "metadata": {
        "colab": {
          "base_uri": "https://localhost:8080/"
        },
        "id": "S9AptPw5C-Iz",
        "outputId": "b5d0c9aa-cb3d-4289-b057-07453992b2d5"
      },
      "execution_count": 1,
      "outputs": [
        {
          "output_type": "stream",
          "name": "stdout",
          "text": [
            "Requirement already satisfied: flask-ngrok in /usr/local/lib/python3.11/dist-packages (0.0.25)\n",
            "Requirement already satisfied: Flask>=0.8 in /usr/local/lib/python3.11/dist-packages (from flask-ngrok) (3.1.1)\n",
            "Requirement already satisfied: requests in /usr/local/lib/python3.11/dist-packages (from flask-ngrok) (2.32.3)\n",
            "Requirement already satisfied: blinker>=1.9.0 in /usr/local/lib/python3.11/dist-packages (from Flask>=0.8->flask-ngrok) (1.9.0)\n",
            "Requirement already satisfied: click>=8.1.3 in /usr/local/lib/python3.11/dist-packages (from Flask>=0.8->flask-ngrok) (8.2.0)\n",
            "Requirement already satisfied: itsdangerous>=2.2.0 in /usr/local/lib/python3.11/dist-packages (from Flask>=0.8->flask-ngrok) (2.2.0)\n",
            "Requirement already satisfied: jinja2>=3.1.2 in /usr/local/lib/python3.11/dist-packages (from Flask>=0.8->flask-ngrok) (3.1.6)\n",
            "Requirement already satisfied: markupsafe>=2.1.1 in /usr/local/lib/python3.11/dist-packages (from Flask>=0.8->flask-ngrok) (3.0.2)\n",
            "Requirement already satisfied: werkzeug>=3.1.0 in /usr/local/lib/python3.11/dist-packages (from Flask>=0.8->flask-ngrok) (3.1.3)\n",
            "Requirement already satisfied: charset-normalizer<4,>=2 in /usr/local/lib/python3.11/dist-packages (from requests->flask-ngrok) (3.4.2)\n",
            "Requirement already satisfied: idna<4,>=2.5 in /usr/local/lib/python3.11/dist-packages (from requests->flask-ngrok) (3.10)\n",
            "Requirement already satisfied: urllib3<3,>=1.21.1 in /usr/local/lib/python3.11/dist-packages (from requests->flask-ngrok) (2.4.0)\n",
            "Requirement already satisfied: certifi>=2017.4.17 in /usr/local/lib/python3.11/dist-packages (from requests->flask-ngrok) (2025.4.26)\n",
            " * Serving Flask app '__main__'\n",
            " * Debug mode: off\n"
          ]
        },
        {
          "output_type": "stream",
          "name": "stderr",
          "text": [
            "INFO:werkzeug:\u001b[31m\u001b[1mWARNING: This is a development server. Do not use it in a production deployment. Use a production WSGI server instead.\u001b[0m\n",
            " * Running on http://127.0.0.1:5000\n",
            "INFO:werkzeug:\u001b[33mPress CTRL+C to quit\u001b[0m\n",
            "Exception in thread Thread-8:\n",
            "Traceback (most recent call last):\n",
            "  File \"/usr/local/lib/python3.11/dist-packages/urllib3/connection.py\", line 198, in _new_conn\n",
            "    sock = connection.create_connection(\n",
            "           ^^^^^^^^^^^^^^^^^^^^^^^^^^^^^\n",
            "  File \"/usr/local/lib/python3.11/dist-packages/urllib3/util/connection.py\", line 85, in create_connection\n",
            "    raise err\n",
            "  File \"/usr/local/lib/python3.11/dist-packages/urllib3/util/connection.py\", line 73, in create_connection\n",
            "    sock.connect(sa)\n",
            "ConnectionRefusedError: [Errno 111] Connection refused\n",
            "\n",
            "The above exception was the direct cause of the following exception:\n",
            "\n",
            "Traceback (most recent call last):\n",
            "  File \"/usr/local/lib/python3.11/dist-packages/urllib3/connectionpool.py\", line 787, in urlopen\n",
            "    response = self._make_request(\n",
            "               ^^^^^^^^^^^^^^^^^^^\n",
            "  File \"/usr/local/lib/python3.11/dist-packages/urllib3/connectionpool.py\", line 493, in _make_request\n",
            "    conn.request(\n",
            "  File \"/usr/local/lib/python3.11/dist-packages/urllib3/connection.py\", line 445, in request\n",
            "    self.endheaders()\n",
            "  File \"/usr/lib/python3.11/http/client.py\", line 1298, in endheaders\n",
            "    self._send_output(message_body, encode_chunked=encode_chunked)\n",
            "  File \"/usr/lib/python3.11/http/client.py\", line 1058, in _send_output\n",
            "    self.send(msg)\n",
            "  File \"/usr/lib/python3.11/http/client.py\", line 996, in send\n",
            "    self.connect()\n",
            "  File \"/usr/local/lib/python3.11/dist-packages/urllib3/connection.py\", line 276, in connect\n",
            "    self.sock = self._new_conn()\n",
            "                ^^^^^^^^^^^^^^^^\n",
            "  File \"/usr/local/lib/python3.11/dist-packages/urllib3/connection.py\", line 213, in _new_conn\n",
            "    raise NewConnectionError(\n",
            "urllib3.exceptions.NewConnectionError: <urllib3.connection.HTTPConnection object at 0x7cf26ca46650>: Failed to establish a new connection: [Errno 111] Connection refused\n",
            "\n",
            "The above exception was the direct cause of the following exception:\n",
            "\n",
            "Traceback (most recent call last):\n",
            "  File \"/usr/local/lib/python3.11/dist-packages/requests/adapters.py\", line 667, in send\n",
            "    resp = conn.urlopen(\n",
            "           ^^^^^^^^^^^^^\n",
            "  File \"/usr/local/lib/python3.11/dist-packages/urllib3/connectionpool.py\", line 841, in urlopen\n",
            "    retries = retries.increment(\n",
            "              ^^^^^^^^^^^^^^^^^^\n",
            "  File \"/usr/local/lib/python3.11/dist-packages/urllib3/util/retry.py\", line 519, in increment\n",
            "    raise MaxRetryError(_pool, url, reason) from reason  # type: ignore[arg-type]\n",
            "    ^^^^^^^^^^^^^^^^^^^^^^^^^^^^^^^^^^^^^^^^^^^^^^^^^^^\n",
            "urllib3.exceptions.MaxRetryError: HTTPConnectionPool(host='localhost', port=4040): Max retries exceeded with url: /api/tunnels (Caused by NewConnectionError('<urllib3.connection.HTTPConnection object at 0x7cf26ca46650>: Failed to establish a new connection: [Errno 111] Connection refused'))\n",
            "\n",
            "During handling of the above exception, another exception occurred:\n",
            "\n",
            "Traceback (most recent call last):\n",
            "  File \"/usr/lib/python3.11/threading.py\", line 1045, in _bootstrap_inner\n",
            "    self.run()\n",
            "  File \"/usr/lib/python3.11/threading.py\", line 1401, in run\n",
            "    self.function(*self.args, **self.kwargs)\n",
            "  File \"/usr/local/lib/python3.11/dist-packages/flask_ngrok.py\", line 70, in start_ngrok\n",
            "    ngrok_address = _run_ngrok()\n",
            "                    ^^^^^^^^^^^^\n",
            "  File \"/usr/local/lib/python3.11/dist-packages/flask_ngrok.py\", line 35, in _run_ngrok\n",
            "    tunnel_url = requests.get(localhost_url).text  # Get the tunnel information\n",
            "                 ^^^^^^^^^^^^^^^^^^^^^^^^^^^\n",
            "  File \"/usr/local/lib/python3.11/dist-packages/requests/api.py\", line 73, in get\n",
            "    return request(\"get\", url, params=params, **kwargs)\n",
            "           ^^^^^^^^^^^^^^^^^^^^^^^^^^^^^^^^^^^^^^^^^^^^\n",
            "  File \"/usr/local/lib/python3.11/dist-packages/requests/api.py\", line 59, in request\n",
            "    return session.request(method=method, url=url, **kwargs)\n",
            "           ^^^^^^^^^^^^^^^^^^^^^^^^^^^^^^^^^^^^^^^^^^^^^^^^^\n",
            "  File \"/usr/local/lib/python3.11/dist-packages/requests/sessions.py\", line 589, in request\n",
            "    resp = self.send(prep, **send_kwargs)\n",
            "           ^^^^^^^^^^^^^^^^^^^^^^^^^^^^^^\n",
            "  File \"/usr/local/lib/python3.11/dist-packages/requests/sessions.py\", line 703, in send\n",
            "    r = adapter.send(request, **kwargs)\n",
            "        ^^^^^^^^^^^^^^^^^^^^^^^^^^^^^^^\n",
            "  File \"/usr/local/lib/python3.11/dist-packages/requests/adapters.py\", line 700, in send\n",
            "    raise ConnectionError(e, request=request)\n",
            "requests.exceptions.ConnectionError: HTTPConnectionPool(host='localhost', port=4040): Max retries exceeded with url: /api/tunnels (Caused by NewConnectionError('<urllib3.connection.HTTPConnection object at 0x7cf26ca46650>: Failed to establish a new connection: [Errno 111] Connection refused'))\n"
          ]
        }
      ]
    },
    {
      "cell_type": "code",
      "source": [
        " !pip install flask-ngrok\n",
        "\n",
        "from flask import Flask\n",
        "from flask_ngrok import run_with_ngrok\n",
        "import threading\n",
        "\n",
        "app = Flask(__name__)\n",
        "\n",
        "@app.route(\"/\")\n",
        "def home():\n",
        "    return \"Hello, World!\"\n",
        "\n",
        "# Run Flask app in a separate thread\n",
        "def run_app():\n",
        "    app.run(host='0.0.0.0', port=5000, debug=False, use_reloader=False)\n",
        "\n",
        "thread = threading.Thread(target=run_app)\n",
        "thread.start()\n",
        "\n",
        "# Start ngrok tunnel\n",
        "run_with_ngrok(app)"
      ],
      "metadata": {
        "colab": {
          "base_uri": "https://localhost:8080/"
        },
        "id": "ImEMxKQcC-O7",
        "outputId": "65ef2a94-e10f-4537-d267-8f8f19ff1400"
      },
      "execution_count": 2,
      "outputs": [
        {
          "output_type": "stream",
          "name": "stdout",
          "text": [
            "Requirement already satisfied: flask-ngrok in /usr/local/lib/python3.11/dist-packages (0.0.25)\n",
            "Requirement already satisfied: Flask>=0.8 in /usr/local/lib/python3.11/dist-packages (from flask-ngrok) (3.1.1)\n",
            "Requirement already satisfied: requests in /usr/local/lib/python3.11/dist-packages (from flask-ngrok) (2.32.3)\n",
            "Requirement already satisfied: blinker>=1.9.0 in /usr/local/lib/python3.11/dist-packages (from Flask>=0.8->flask-ngrok) (1.9.0)\n",
            "Requirement already satisfied: click>=8.1.3 in /usr/local/lib/python3.11/dist-packages (from Flask>=0.8->flask-ngrok) (8.2.0)\n",
            "Requirement already satisfied: itsdangerous>=2.2.0 in /usr/local/lib/python3.11/dist-packages (from Flask>=0.8->flask-ngrok) (2.2.0)\n",
            "Requirement already satisfied: jinja2>=3.1.2 in /usr/local/lib/python3.11/dist-packages (from Flask>=0.8->flask-ngrok) (3.1.6)\n",
            "Requirement already satisfied: markupsafe>=2.1.1 in /usr/local/lib/python3.11/dist-packages (from Flask>=0.8->flask-ngrok) (3.0.2)\n",
            "Requirement already satisfied: werkzeug>=3.1.0 in /usr/local/lib/python3.11/dist-packages (from Flask>=0.8->flask-ngrok) (3.1.3)\n",
            "Requirement already satisfied: charset-normalizer<4,>=2 in /usr/local/lib/python3.11/dist-packages (from requests->flask-ngrok) (3.4.2)\n",
            "Requirement already satisfied: idna<4,>=2.5 in /usr/local/lib/python3.11/dist-packages (from requests->flask-ngrok) (3.10)\n",
            "Requirement already satisfied: urllib3<3,>=1.21.1 in /usr/local/lib/python3.11/dist-packages (from requests->flask-ngrok) (2.4.0)\n",
            "Requirement already satisfied: certifi>=2017.4.17 in /usr/local/lib/python3.11/dist-packages (from requests->flask-ngrok) (2025.4.26)\n",
            " * Serving Flask app '__main__'\n"
          ]
        }
      ]
    },
    {
      "cell_type": "code",
      "source": [
        "# 1. How do you create a basic Flask application?\n",
        "from flask import Flask\n",
        "app = Flask(__name__)\n",
        "\n",
        "@app.route('/')\n",
        "def home():\n",
        "    return 'Hello, Flask!'\n",
        "if __name__ == '__main__':\n",
        "    app.run()"
      ],
      "metadata": {
        "id": "-XvC7kT2C-Rp"
      },
      "execution_count": null,
      "outputs": []
    },
    {
      "cell_type": "code",
      "source": [
        "\n",
        "# 3. How do you define different routes with different HTTP methods in Flask?\n",
        "from flask import request\n",
        "@app.route('/submit', methods=['GET', 'POST'])\n",
        "def submit():\n",
        "    if request.method == 'POST':\n",
        "        return 'Form submitted!'\n",
        "    return 'Show form here'\n"
      ],
      "metadata": {
        "id": "-y_oYJnNC-b4"
      },
      "execution_count": 7,
      "outputs": []
    },
    {
      "cell_type": "code",
      "source": [
        "# 4. How do you render HTML templates in Flask?\n",
        "from flask import render_template\n",
        "@app.route('/about')\n",
        "def about():\n",
        "    return render_template('about.html')"
      ],
      "metadata": {
        "id": "_uaGl9TUQ2Jz"
      },
      "execution_count": 8,
      "outputs": []
    },
    {
      "cell_type": "code",
      "source": [
        "# 5. How can you generate URLs for routes in Flask using url_for?\n",
        "from flask import url_for\n",
        "@app.route('/profile/<username>')\n",
        "def profile(username):\n",
        "    return f'Profile page of {username}'"
      ],
      "metadata": {
        "id": "SLsuuZF5Q7zI"
      },
      "execution_count": 9,
      "outputs": []
    },
    {
      "cell_type": "code",
      "source": [
        "# 6. How do you handle forms in Flask?\n",
        "from flask import request\n",
        "@app.route('/login', methods=['GET', 'POST'])\n",
        "def login():\n",
        "    if request.method == 'POST':\n",
        "        username = request.form['username']\n",
        "        return f'Logged in as {username}'\n",
        "    return render_template('login.html')"
      ],
      "metadata": {
        "id": "zjgL0vb_RBfg"
      },
      "execution_count": 10,
      "outputs": []
    },
    {
      "cell_type": "code",
      "source": [
        "# 7. How can you validate form data in Flask?\n",
        "from flask import request\n",
        "@app.route('/validate', methods=['POST'])\n",
        "def validate():\n",
        "    username = request.form.get('username')\n",
        "    if not username:\n",
        "        return 'Username is required!', 400\n",
        "    # Additional validation here\n",
        "    return f'Welcome, {username}'"
      ],
      "metadata": {
        "id": "ljERcTf8RFxA"
      },
      "execution_count": 11,
      "outputs": []
    },
    {
      "cell_type": "code",
      "source": [
        "# 8. How do you manage sessions in Flask?\n",
        "from flask import session\n",
        "app.secret_key = 'your_secret_key'\n",
        "@app.route('/set_session')\n",
        "def set_session():\n",
        "    session['user'] = 'john'\n",
        "    return 'Session set!'\n",
        "\n",
        "@app.route('/get_session')\n",
        "def get_session():\n",
        "    user = session.get('user')\n",
        "    return f'Session user: {user}'"
      ],
      "metadata": {
        "id": "Rufr4lV_RF71"
      },
      "execution_count": 12,
      "outputs": []
    },
    {
      "cell_type": "code",
      "source": [
        "# 9. How do you redirect to a different route in Flask?\n",
        "from flask import redirect, url_for\n",
        "@app.route('/go_home')\n",
        "def go_home():\n",
        "    return redirect(url_for('home'))"
      ],
      "metadata": {
        "id": "Cv3Frq_ORLUi"
      },
      "execution_count": 13,
      "outputs": []
    },
    {
      "cell_type": "code",
      "source": [
        "# 10. How do you handle errors in Flask (e.g., 404)?\n",
        "@app.errorhandler(404)\n",
        "def page_not_found(e):\n",
        "    return render_template('404.html'), 404"
      ],
      "metadata": {
        "id": "XQBA5NzGRLYB"
      },
      "execution_count": 14,
      "outputs": []
    },
    {
      "cell_type": "code",
      "source": [
        "# 11. How do you structure a Flask app using Blueprints?\n",
        "from flask import Blueprint\n",
        "bp = Blueprint('main', __name__)\n",
        "\n",
        "@bp.route('/dashboard')\n",
        "def dashboard():\n",
        "    return 'Dashboard Page'"
      ],
      "metadata": {
        "id": "192aI5tgRLbX"
      },
      "execution_count": 15,
      "outputs": []
    },
    {
      "cell_type": "code",
      "source": [
        "# 12. How do you define a custom Jinja filter in Flask?\n",
        "@app.template_filter('reverse')\n",
        "def reverse_filter(s):\n",
        "    return s[::-1]\n",
        "# Usage in template: {{ 'hello' | reverse }}"
      ],
      "metadata": {
        "id": "i4KsZJaoRLer"
      },
      "execution_count": 15,
      "outputs": []
    },
    {
      "cell_type": "code",
      "source": [
        "# 13. How can you redirect with query parameters in Flask?\n",
        "@app.route('/search')\n",
        "def search():\n",
        "    query = request.args.get('q')\n",
        "    return f'Searching for {query}'\n",
        "\n",
        "@app.route('/redirect_with_params')\n",
        "def redirect_with_params():\n",
        "    return redirect(url_for('search', q='flask'))\n",
        "\n"
      ],
      "metadata": {
        "id": "K5PU1tEJC-fO"
      },
      "execution_count": 16,
      "outputs": []
    },
    {
      "cell_type": "code",
      "source": [
        "# 14. How do you return JSON responses in Flask?\n",
        "from flask import jsonify\n",
        "@app.route('/api/data')\n",
        "def data():\n",
        "    return jsonify({'name': 'Flask', 'type': 'web framework'})"
      ],
      "metadata": {
        "id": "qw8EtTvSC-h5"
      },
      "execution_count": 17,
      "outputs": []
    },
    {
      "cell_type": "code",
      "source": [
        "# 15. How do you capture URL parameters in Flask?\n",
        "@app.route('/user/<int:user_id>')\n",
        "def user_profile(user_id):\n",
        "    return f'User ID: {user_id}'"
      ],
      "metadata": {
        "id": "8oH4fewxC-k3"
      },
      "execution_count": 18,
      "outputs": []
    },
    {
      "cell_type": "code",
      "source": [],
      "metadata": {
        "id": "5bQ08mSMC-nn"
      },
      "execution_count": null,
      "outputs": []
    },
    {
      "cell_type": "code",
      "source": [],
      "metadata": {
        "id": "JVreeSNLC-qg"
      },
      "execution_count": null,
      "outputs": []
    },
    {
      "cell_type": "code",
      "source": [],
      "metadata": {
        "id": "7-ParL-VC-tV"
      },
      "execution_count": null,
      "outputs": []
    }
  ]
}